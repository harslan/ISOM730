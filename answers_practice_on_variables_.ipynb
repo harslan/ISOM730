{
  "nbformat": 4,
  "nbformat_minor": 0,
  "metadata": {
    "colab": {
      "name": "answers_practice_on_variables_.ipynb",
      "provenance": [],
      "collapsed_sections": [],
      "authorship_tag": "ABX9TyMKeu4c6kwsjm7jPA5g5nLM",
      "include_colab_link": true
    },
    "kernelspec": {
      "name": "python3",
      "display_name": "Python 3"
    }
  },
  "cells": [
    {
      "cell_type": "markdown",
      "metadata": {
        "id": "view-in-github",
        "colab_type": "text"
      },
      "source": [
        "<a href=\"https://colab.research.google.com/github/harslan/ISOM730/blob/master/answers_practice_on_variables_.ipynb\" target=\"_parent\"><img src=\"https://colab.research.google.com/assets/colab-badge.svg\" alt=\"Open In Colab\"/></a>"
      ]
    },
    {
      "cell_type": "markdown",
      "metadata": {
        "id": "4TCh55CxM6ZK",
        "colab_type": "text"
      },
      "source": [
        "### Exercise 2: Write a program that uses input to prompt a user for their name and then welcomes them.\n"
      ]
    },
    {
      "cell_type": "code",
      "metadata": {
        "id": "Wfu1nLjEM1aP",
        "colab_type": "code",
        "colab": {}
      },
      "source": [
        "name=input(\"Enter your name:\")\n",
        "print(\"Welcome to ISOM 730 \",name)"
      ],
      "execution_count": 0,
      "outputs": []
    },
    {
      "cell_type": "markdown",
      "metadata": {
        "id": "nOooA1OiNGjj",
        "colab_type": "text"
      },
      "source": [
        "### Exercise 3: Write a program to prompt the user for hours and rate per hour to compute gross pay."
      ]
    },
    {
      "cell_type": "code",
      "metadata": {
        "id": "l03P3XdlNHVq",
        "colab_type": "code",
        "colab": {}
      },
      "source": [
        "def compute_pay():\n",
        "    hours = float(input(\"Enter Hours:\"))\n",
        "    rate = float(input(\"Enter Rate:\"))\n",
        "    if hours > 40:\n",
        "        pay = 40 * rate + (hours-40) * rate * 1.5\n",
        "    else:\n",
        "        pay = hours * rate\n",
        "        \n",
        "    return pay\n",
        "\n",
        "\n",
        "compute_pay()"
      ],
      "execution_count": 0,
      "outputs": []
    },
    {
      "cell_type": "markdown",
      "metadata": {
        "id": "0c9uyVYUNpQQ",
        "colab_type": "text"
      },
      "source": [
        "### Exercise 4: Assume that we execute the following assignment statements.For each of the following expressions, write the value of the expression and the type (of the value of the expression)."
      ]
    },
    {
      "cell_type": "code",
      "metadata": {
        "id": "-4hhrWntNqdB",
        "colab_type": "code",
        "colab": {
          "base_uri": "https://localhost:8080/",
          "height": 85
        },
        "outputId": "494df322-0e34-4030-ed63-da4e8e4ca695"
      },
      "source": [
        "width = 17\n",
        "height = 12.0\n",
        "\n",
        "#1. Integer Division \n",
        "ex1 = 17//2\n",
        "print(ex1, type(ex1))\n",
        "\n",
        "#2. Floating Division\n",
        "ex2 = 17/2.0\n",
        "print(ex2, type(ex2))\n",
        "\n",
        "#3. Floating Division \n",
        "ex3 = 12.0/3\n",
        "print(ex3, type(ex3))\n",
        "\n",
        "#4. Addition and Multiplication \n",
        "ex4 = 1+2*5\n",
        "print(ex4, type(ex4))"
      ],
      "execution_count": 8,
      "outputs": [
        {
          "output_type": "stream",
          "text": [
            "8 <class 'int'>\n",
            "8.5 <class 'float'>\n",
            "4.0 <class 'float'>\n",
            "11 <class 'int'>\n"
          ],
          "name": "stdout"
        }
      ]
    },
    {
      "cell_type": "markdown",
      "metadata": {
        "id": "YDk9TKbzPAxb",
        "colab_type": "text"
      },
      "source": [
        "### Exercise 5: Write a program which prompts the user for a Celsius temperature, convert the temperature to Fahrenheit, and print out the converted temperature.\n"
      ]
    },
    {
      "cell_type": "code",
      "metadata": {
        "id": "1sxqnqZtPByl",
        "colab_type": "code",
        "colab": {}
      },
      "source": [
        "def temp_convert():\n",
        "    celsius = float(input(\"Enter Temp in Celsius: \"))\n",
        "    converted = celsius*1.8+32\n",
        "    return converted \n",
        "\n",
        "\n",
        "temp_convert()\n"
      ],
      "execution_count": 0,
      "outputs": []
    }
  ]
}