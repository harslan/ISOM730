{
  "nbformat": 4,
  "nbformat_minor": 0,
  "metadata": {
    "colab": {
      "name": "scikit_learn_exercises",
      "provenance": [],
      "collapsed_sections": [],
      "authorship_tag": "ABX9TyMx7q7dPVoLs/OVFYANnsti",
      "include_colab_link": true
    },
    "kernelspec": {
      "name": "python3",
      "display_name": "Python 3"
    }
  },
  "cells": [
    {
      "cell_type": "markdown",
      "metadata": {
        "id": "view-in-github",
        "colab_type": "text"
      },
      "source": [
        "<a href=\"https://colab.research.google.com/github/harslan/ISOM730/blob/master/scikit_learn_exercises.ipynb\" target=\"_parent\"><img src=\"https://colab.research.google.com/assets/colab-badge.svg\" alt=\"Open In Colab\"/></a>"
      ]
    },
    {
      "cell_type": "markdown",
      "metadata": {
        "id": "pWPaCyt1U9A-",
        "colab_type": "text"
      },
      "source": [
        "## The breast cancer Wisconsin dataset (classification problem)\n",
        "\n",
        "Let us build two predictive models on the following dataset:\n",
        "\n",
        "(http://archive.ics.uci.edu/ml/datasets/breast+cancer+wisconsin+%28original%29)\n",
        "\n"
      ]
    },
    {
      "cell_type": "code",
      "metadata": {
        "id": "exnwFpEaVOxt",
        "colab_type": "code",
        "outputId": "f94c026b-6add-42c7-8f17-e2f53fdd58d1",
        "colab": {
          "base_uri": "https://localhost:8080/",
          "height": 34
        }
      },
      "source": [
        "# load the breast cancer Wisconsin dataset\n",
        "from sklearn.datasets import load_breast_cancer\n",
        "cancer = load_breast_cancer()\n",
        "type(cancer)"
      ],
      "execution_count": 0,
      "outputs": [
        {
          "output_type": "execute_result",
          "data": {
            "text/plain": [
              "sklearn.utils.Bunch"
            ]
          },
          "metadata": {
            "tags": []
          },
          "execution_count": 8
        }
      ]
    },
    {
      "cell_type": "markdown",
      "metadata": {
        "id": "NPdHmxPMYyrq",
        "colab_type": "text"
      },
      "source": [
        "Bunch is a Dictionary-like object in Scikit-Learn. The interesting attributes are: \n",
        "- ‘data’, the data to learn, \n",
        "- ‘target’, the classification labels, \n",
        "-‘target_names’, the meaning of the labels, \n",
        "- ‘feature_names’, the meaning of the features, and \n",
        "-‘DESCR’, the full description of the dataset, \n",
        "- ‘filename’, the physical location of breast cancer csv dataset (added in version 0.20)."
      ]
    },
    {
      "cell_type": "code",
      "metadata": {
        "id": "Q_sHliMPZCIq",
        "colab_type": "code",
        "outputId": "dbf98828-8f3e-423e-f54d-01fe861bed9b",
        "colab": {
          "base_uri": "https://localhost:8080/",
          "height": 527
        }
      },
      "source": [
        "list(cancer.feature_names)"
      ],
      "execution_count": 0,
      "outputs": [
        {
          "output_type": "execute_result",
          "data": {
            "text/plain": [
              "['mean radius',\n",
              " 'mean texture',\n",
              " 'mean perimeter',\n",
              " 'mean area',\n",
              " 'mean smoothness',\n",
              " 'mean compactness',\n",
              " 'mean concavity',\n",
              " 'mean concave points',\n",
              " 'mean symmetry',\n",
              " 'mean fractal dimension',\n",
              " 'radius error',\n",
              " 'texture error',\n",
              " 'perimeter error',\n",
              " 'area error',\n",
              " 'smoothness error',\n",
              " 'compactness error',\n",
              " 'concavity error',\n",
              " 'concave points error',\n",
              " 'symmetry error',\n",
              " 'fractal dimension error',\n",
              " 'worst radius',\n",
              " 'worst texture',\n",
              " 'worst perimeter',\n",
              " 'worst area',\n",
              " 'worst smoothness',\n",
              " 'worst compactness',\n",
              " 'worst concavity',\n",
              " 'worst concave points',\n",
              " 'worst symmetry',\n",
              " 'worst fractal dimension']"
            ]
          },
          "metadata": {
            "tags": []
          },
          "execution_count": 12
        }
      ]
    },
    {
      "cell_type": "code",
      "metadata": {
        "id": "zjc1NEgrZJ00",
        "colab_type": "code",
        "outputId": "7a49e2d5-8b77-435c-a023-45bd1253bf12",
        "colab": {
          "base_uri": "https://localhost:8080/",
          "height": 34
        }
      },
      "source": [
        "list(cancer.target_names)"
      ],
      "execution_count": 0,
      "outputs": [
        {
          "output_type": "execute_result",
          "data": {
            "text/plain": [
              "['malignant', 'benign']"
            ]
          },
          "metadata": {
            "tags": []
          },
          "execution_count": 13
        }
      ]
    },
    {
      "cell_type": "markdown",
      "metadata": {
        "id": "S7_EEqvXeNGU",
        "colab_type": "text"
      },
      "source": [
        "## Question 1"
      ]
    },
    {
      "cell_type": "code",
      "metadata": {
        "id": "hQ6eURzEZNBT",
        "colab_type": "code",
        "colab": {}
      },
      "source": [
        "# split the data into training and test data\n",
        "from sklearn.model_selection import train_test_split\n",
        "X_train, X_test, y_train, y_test = train_test_split(cancer.data, cancer.target, test_size=0.25, random_state=0)"
      ],
      "execution_count": 0,
      "outputs": []
    },
    {
      "cell_type": "code",
      "metadata": {
        "id": "YOn3L_1QhUVG",
        "colab_type": "code",
        "colab": {}
      },
      "source": [
        "# Let us apply Feature Scaling to our data\n",
        "from sklearn.preprocessing import StandardScaler\n",
        "sc = StandardScaler()\n",
        "X_train = sc.fit_transform(X_train)\n",
        "X_test = sc.transform(X_test)"
      ],
      "execution_count": 0,
      "outputs": []
    },
    {
      "cell_type": "code",
      "metadata": {
        "id": "b3ITKmLRbKlP",
        "colab_type": "code",
        "colab": {}
      },
      "source": [
        "# Use GaussianNB method of Naive Bayes class to build a prediction model on training data\n",
        "# Obtain the accuracy of your model predictions on test data\n",
        "# Create a confusion matrix as part of your output\n",
        "\n",
        "# ANSWER:\n",
        "\n"
      ],
      "execution_count": 0,
      "outputs": []
    },
    {
      "cell_type": "markdown",
      "metadata": {
        "id": "vlJzZd-seRdH",
        "colab_type": "text"
      },
      "source": [
        "## Question 2"
      ]
    },
    {
      "cell_type": "code",
      "metadata": {
        "id": "fsoLGbAdeR_O",
        "colab_type": "code",
        "colab": {}
      },
      "source": [
        "# split the data into training and test data\n",
        "from sklearn.model_selection import train_test_split\n",
        "X_train, X_test, y_train, y_test = train_test_split(cancer.data, cancer.target, test_size=0.25, random_state=0)"
      ],
      "execution_count": 0,
      "outputs": []
    },
    {
      "cell_type": "code",
      "metadata": {
        "id": "3Mmue8Z-grYT",
        "colab_type": "code",
        "colab": {}
      },
      "source": [
        "# Let us apply Feature Scaling to our data\n",
        "from sklearn.preprocessing import StandardScaler\n",
        "sc = StandardScaler()\n",
        "X_train = sc.fit_transform(X_train)\n",
        "X_test = sc.transform(X_test)"
      ],
      "execution_count": 0,
      "outputs": []
    },
    {
      "cell_type": "code",
      "metadata": {
        "id": "BFmnsCIee0Yq",
        "colab_type": "code",
        "colab": {}
      },
      "source": [
        "# Use Suppoert vector Machines (SVM) class in Scikit-Learn to build a prediction model on training data\n",
        "# Obtain the accuracy of your model predictions on test data\n",
        "# Create a confusion matrix as part of your output\n",
        "\n",
        "# ANSWER:\n",
        "\n",
        "\n"
      ],
      "execution_count": 0,
      "outputs": []
    },
    {
      "cell_type": "markdown",
      "metadata": {
        "id": "3hwLh1nrgTig",
        "colab_type": "text"
      },
      "source": [
        "## Question 3"
      ]
    },
    {
      "cell_type": "markdown",
      "metadata": {
        "id": "9J4KdQtqt1Rw",
        "colab_type": "text"
      },
      "source": [
        "## Diabetes dataset"
      ]
    },
    {
      "cell_type": "markdown",
      "metadata": {
        "id": "yUScpvSHzZQ3",
        "colab_type": "text"
      },
      "source": [
        "https://www4.stat.ncsu.edu/~boos/var.select/diabetes.html\n",
        "\n",
        "The dataset contains 10 features (that have already been mean centered and scaled) and a target value: a measure of disease progression one year after baseline."
      ]
    },
    {
      "cell_type": "code",
      "metadata": {
        "id": "GiyvZ8Esz5dj",
        "colab_type": "code",
        "colab": {}
      },
      "source": [
        "# load the dataset\n",
        "import pandas as pd\n",
        "from sklearn.datasets import load_diabetes\n",
        "X, y = load_diabetes(return_X_y=True)\n",
        "X = pd.DataFrame(X)\n",
        "y = pd.DataFrame(y)\n",
        "print(X.head())\n",
        "print(y.head())"
      ],
      "execution_count": 0,
      "outputs": []
    },
    {
      "cell_type": "code",
      "metadata": {
        "id": "zKTzoY_Y0xfE",
        "colab_type": "code",
        "colab": {}
      },
      "source": [
        "# setting up training set and test set \n",
        "from sklearn.model_selection import train_test_split\n",
        "X_train, X_test, y_train, y_test = train_test_split(X, y, test_size=0.25, random_state=0)\n"
      ],
      "execution_count": 0,
      "outputs": []
    },
    {
      "cell_type": "code",
      "metadata": {
        "id": "eWBs2_fp1Wlp",
        "colab_type": "code",
        "colab": {}
      },
      "source": [
        "# fit a linear regression model on training data and determine training set score and test set score\n",
        "# ANSWER:\n",
        "\n"
      ],
      "execution_count": 0,
      "outputs": []
    },
    {
      "cell_type": "code",
      "metadata": {
        "id": "YHMqKqjt1tJs",
        "colab_type": "code",
        "colab": {}
      },
      "source": [
        "# fit a Lasso regresion model with default value for alpha=1\n",
        "# determine training set score and test set score\n",
        "# find optimal alpha with grid search over the following list\n",
        "alpha = [0.001, 0.01, 0.1, 1, 10, 100, 1000]\n",
        "\n",
        "from sklearn.linear_model import Lasso\n",
        "\n",
        "\n",
        "# ANSWER:\n",
        "\n",
        "\n"
      ],
      "execution_count": 0,
      "outputs": []
    }
  ]
}