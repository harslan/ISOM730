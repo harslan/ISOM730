{
  "nbformat": 4,
  "nbformat_minor": 0,
  "metadata": {
    "colab": {
      "name": "counting_unique_names.ipynb",
      "provenance": [],
      "authorship_tag": "ABX9TyP42XWzrbsNtSoNmPNAfRvb",
      "include_colab_link": true
    },
    "kernelspec": {
      "name": "python3",
      "display_name": "Python 3"
    }
  },
  "cells": [
    {
      "cell_type": "markdown",
      "metadata": {
        "id": "view-in-github",
        "colab_type": "text"
      },
      "source": [
        "<a href=\"https://colab.research.google.com/github/harslan/ISOM730/blob/master/counting_unique_names.ipynb\" target=\"_parent\"><img src=\"https://colab.research.google.com/assets/colab-badge.svg\" alt=\"Open In Colab\"/></a>"
      ]
    },
    {
      "cell_type": "code",
      "metadata": {
        "id": "EDEXBSCDStP9",
        "colab_type": "code",
        "colab": {
          "base_uri": "https://localhost:8080/",
          "height": 35
        },
        "outputId": "16b6eebe-1e78-49ec-c48e-a3b620d652e9"
      },
      "source": [
        "counts = dict()\n",
        "names = [ 'a', 'b', 'a']\n",
        "\n",
        "for name in names:\n",
        "  counts[name] = counts.get(name,0)+1\n",
        "\n",
        "print(counts) "
      ],
      "execution_count": 1,
      "outputs": [
        {
          "output_type": "stream",
          "text": [
            "{'a': 2, 'b': 1}\n"
          ],
          "name": "stdout"
        }
      ]
    }
  ]
}