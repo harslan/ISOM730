{
  "nbformat": 4,
  "nbformat_minor": 0,
  "metadata": {
    "colab": {
      "name": "count_words.ipynb",
      "provenance": [],
      "collapsed_sections": [],
      "toc_visible": true,
      "authorship_tag": "ABX9TyM9pW99WRXcE8i8z732JoTx",
      "include_colab_link": true
    },
    "kernelspec": {
      "name": "python3",
      "display_name": "Python 3"
    }
  },
  "cells": [
    {
      "cell_type": "markdown",
      "metadata": {
        "id": "view-in-github",
        "colab_type": "text"
      },
      "source": [
        "<a href=\"https://colab.research.google.com/github/harslan/ISOM730/blob/master/count_words.ipynb\" target=\"_parent\"><img src=\"https://colab.research.google.com/assets/colab-badge.svg\" alt=\"Open In Colab\"/></a>"
      ]
    },
    {
      "cell_type": "code",
      "metadata": {
        "id": "I9f9wrnqemjV",
        "colab_type": "code",
        "outputId": "104e1e72-5862-42b0-d8d2-b3c2da9a93a9",
        "colab": {
          "base_uri": "https://localhost:8080/",
          "height": 54
        }
      },
      "source": [
        "fhand = open('romeo.txt')\n",
        "counts = {}\n",
        "for line in fhand:\n",
        "  words = line.split()\n",
        "  for word in words:\n",
        "    counts[word] = counts.get(word,0)+1\n",
        "\n",
        "#print(counts)\n",
        "\n",
        "lst = []\n",
        "\n",
        "for k, v in counts.items():\n",
        "  lst.append((v,k))\n",
        "print(sorted(lst, reverse=True)[:10])\n"
      ],
      "execution_count": 12,
      "outputs": [
        {
          "output_type": "stream",
          "text": [
            "[(3, 'the'), (3, 'is'), (3, 'and'), (2, 'sun'), (1, 'yonder'), (1, 'with'), (1, 'window'), (1, 'what'), (1, 'through'), (1, 'soft')]\n"
          ],
          "name": "stdout"
        }
      ]
    }
  ]
}