{
  "nbformat": 4,
  "nbformat_minor": 0,
  "metadata": {
    "colab": {
      "name": "week4_challenge_question_olmypic_sports_and_medals.ipynb",
      "provenance": [],
      "collapsed_sections": [],
      "authorship_tag": "ABX9TyOdhdEVwTe/axjjo5WeB5eH",
      "include_colab_link": true
    },
    "kernelspec": {
      "name": "python3",
      "display_name": "Python 3"
    }
  },
  "cells": [
    {
      "cell_type": "markdown",
      "metadata": {
        "id": "view-in-github",
        "colab_type": "text"
      },
      "source": [
        "<a href=\"https://colab.research.google.com/github/harslan/ISOM730/blob/master/week4_challenge_question_olmypic_sports_and_medals.ipynb\" target=\"_parent\"><img src=\"https://colab.research.google.com/assets/colab-badge.svg\" alt=\"Open In Colab\"/></a>"
      ]
    },
    {
      "cell_type": "markdown",
      "metadata": {
        "id": "LblWGpk6Xc2C",
        "colab_type": "text"
      },
      "source": [
        "### Olympic Sports and Medals, 1896-2014\n",
        "\n",
        "data source: https://www.kaggle.com/the-guardian/olympic-games\n",
        "\n",
        "More than 35,000 medals have been awarded at the Olympics since 1896. This dataset includes a row for every Olympic athlete that has won a medal since the first games.\n",
        "\n",
        "Using Pandas library,\n",
        "\n",
        "- Find out the (male and female) athlete who won most medals in all the Summer Olympic Games (1896-2014). \n",
        "\n",
        "- Create a barplot which shows the total medals won for each sport during the Summer Olympic Games (1896-2014). \n",
        "\n"
      ]
    },
    {
      "cell_type": "code",
      "metadata": {
        "id": "MhPVVOpNXfva",
        "colab_type": "code",
        "colab": {}
      },
      "source": [
        "\n"
      ],
      "execution_count": 0,
      "outputs": []
    }
  ]
}