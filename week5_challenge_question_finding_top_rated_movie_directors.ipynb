{
  "nbformat": 4,
  "nbformat_minor": 0,
  "metadata": {
    "colab": {
      "name": "week5_challenge_question_finding_top_rated_movie_directors.ipynb",
      "provenance": [],
      "collapsed_sections": [],
      "authorship_tag": "ABX9TyPE83RKOur6v+oTyXrQIffZ",
      "include_colab_link": true
    },
    "kernelspec": {
      "name": "python3",
      "display_name": "Python 3"
    }
  },
  "cells": [
    {
      "cell_type": "markdown",
      "metadata": {
        "id": "view-in-github",
        "colab_type": "text"
      },
      "source": [
        "<a href=\"https://colab.research.google.com/github/harslan/ISOM730/blob/master/week5_challenge_question_finding_top_rated_movie_directors.ipynb\" target=\"_parent\"><img src=\"https://colab.research.google.com/assets/colab-badge.svg\" alt=\"Open In Colab\"/></a>"
      ]
    },
    {
      "cell_type": "markdown",
      "metadata": {
        "id": "qSDXhdchqls_",
        "colab_type": "text"
      },
      "source": [
        "# Finding the Top Rated Movie Directors"
      ]
    },
    {
      "cell_type": "markdown",
      "metadata": {
        "id": "LTQV42NCqrvE",
        "colab_type": "text"
      },
      "source": [
        "#### **data source(s):**\n",
        "- https://pybit.es/codechallenge13.html\n",
        "- https://nycdatascience.com/blog/student-works/web-scraping/movie-rating-prediction/"
      ]
    },
    {
      "cell_type": "markdown",
      "metadata": {
        "id": "HSBT-dOwrM7k",
        "colab_type": "text"
      },
      "source": [
        "Using the data on IMDB movies located at the following url, obtain the 20 highest rated movie directors based on their average movie IMDB ratings.\n",
        "\n",
        " - Only consider directors with a minimum of 4 movies, otherwise you get misrepresentative data. \n",
        " - Take movies of year >= 1960.\n",
        " - Print the top 20 highest rated directors with their movies ordered desc on rating\n"
      ]
    },
    {
      "cell_type": "code",
      "metadata": {
        "id": "kvOczmGgqvjJ",
        "colab_type": "code",
        "colab": {}
      },
      "source": [
        "import pandas as pd\n",
        "dataUrl = 'https://raw.githubusercontent.com/sundeepblue/movie_rating_prediction/master/movie_metadata.csv'\n",
        "data = pd.read_csv(dataUrl)\n",
        "\n"
      ],
      "execution_count": 0,
      "outputs": []
    }
  ]
}